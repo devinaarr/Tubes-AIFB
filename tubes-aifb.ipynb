{
 "cells": [
  {
   "cell_type": "markdown",
   "metadata": {},
   "source": [
    "# Tugas Besar II4042 Kecerdasan Buatan untuk Bisnis"
   ]
  },
  {
   "cell_type": "markdown",
   "metadata": {},
   "source": [
    "# Pendahuluan"
   ]
  },
  {
   "cell_type": "markdown",
   "metadata": {},
   "source": [
    "# Lihat Isi Data"
   ]
  },
  {
   "cell_type": "code",
   "execution_count": 107,
   "metadata": {},
   "outputs": [],
   "source": [
    "# imports\n",
    "import pandas as pd\n",
    "import numpy as np\n",
    "import matplotlib.pyplot as plt\n",
    "import seaborn as sns\n",
    "from imblearn.over_sampling import RandomOverSampler\n",
    "from imblearn.under_sampling import NearMiss "
   ]
  },
  {
   "cell_type": "code",
   "execution_count": 108,
   "metadata": {},
   "outputs": [
    {
     "data": {
      "text/html": [
       "<div>\n",
       "<style scoped>\n",
       "    .dataframe tbody tr th:only-of-type {\n",
       "        vertical-align: middle;\n",
       "    }\n",
       "\n",
       "    .dataframe tbody tr th {\n",
       "        vertical-align: top;\n",
       "    }\n",
       "\n",
       "    .dataframe thead th {\n",
       "        text-align: right;\n",
       "    }\n",
       "</style>\n",
       "<table border=\"1\" class=\"dataframe\">\n",
       "  <thead>\n",
       "    <tr style=\"text-align: right;\">\n",
       "      <th></th>\n",
       "      <th>State</th>\n",
       "      <th>Sex</th>\n",
       "      <th>GeneralHealth</th>\n",
       "      <th>PhysicalHealthDays</th>\n",
       "      <th>MentalHealthDays</th>\n",
       "      <th>LastCheckupTime</th>\n",
       "      <th>PhysicalActivities</th>\n",
       "      <th>SleepHours</th>\n",
       "      <th>RemovedTeeth</th>\n",
       "      <th>HadHeartAttack</th>\n",
       "      <th>...</th>\n",
       "      <th>HeightInMeters</th>\n",
       "      <th>WeightInKilograms</th>\n",
       "      <th>BMI</th>\n",
       "      <th>AlcoholDrinkers</th>\n",
       "      <th>HIVTesting</th>\n",
       "      <th>FluVaxLast12</th>\n",
       "      <th>PneumoVaxEver</th>\n",
       "      <th>TetanusLast10Tdap</th>\n",
       "      <th>HighRiskLastYear</th>\n",
       "      <th>CovidPos</th>\n",
       "    </tr>\n",
       "  </thead>\n",
       "  <tbody>\n",
       "    <tr>\n",
       "      <th>0</th>\n",
       "      <td>Alabama</td>\n",
       "      <td>Female</td>\n",
       "      <td>Very good</td>\n",
       "      <td>4.0</td>\n",
       "      <td>0.0</td>\n",
       "      <td>Within past year (anytime less than 12 months ...</td>\n",
       "      <td>Yes</td>\n",
       "      <td>9.0</td>\n",
       "      <td>None of them</td>\n",
       "      <td>No</td>\n",
       "      <td>...</td>\n",
       "      <td>1.60</td>\n",
       "      <td>71.67</td>\n",
       "      <td>27.99</td>\n",
       "      <td>No</td>\n",
       "      <td>No</td>\n",
       "      <td>Yes</td>\n",
       "      <td>Yes</td>\n",
       "      <td>Yes, received Tdap</td>\n",
       "      <td>No</td>\n",
       "      <td>No</td>\n",
       "    </tr>\n",
       "    <tr>\n",
       "      <th>1</th>\n",
       "      <td>Alabama</td>\n",
       "      <td>Male</td>\n",
       "      <td>Very good</td>\n",
       "      <td>0.0</td>\n",
       "      <td>0.0</td>\n",
       "      <td>Within past year (anytime less than 12 months ...</td>\n",
       "      <td>Yes</td>\n",
       "      <td>6.0</td>\n",
       "      <td>None of them</td>\n",
       "      <td>No</td>\n",
       "      <td>...</td>\n",
       "      <td>1.78</td>\n",
       "      <td>95.25</td>\n",
       "      <td>30.13</td>\n",
       "      <td>No</td>\n",
       "      <td>No</td>\n",
       "      <td>Yes</td>\n",
       "      <td>Yes</td>\n",
       "      <td>Yes, received tetanus shot but not sure what type</td>\n",
       "      <td>No</td>\n",
       "      <td>No</td>\n",
       "    </tr>\n",
       "    <tr>\n",
       "      <th>2</th>\n",
       "      <td>Alabama</td>\n",
       "      <td>Male</td>\n",
       "      <td>Very good</td>\n",
       "      <td>0.0</td>\n",
       "      <td>0.0</td>\n",
       "      <td>Within past year (anytime less than 12 months ...</td>\n",
       "      <td>No</td>\n",
       "      <td>8.0</td>\n",
       "      <td>6 or more, but not all</td>\n",
       "      <td>No</td>\n",
       "      <td>...</td>\n",
       "      <td>1.85</td>\n",
       "      <td>108.86</td>\n",
       "      <td>31.66</td>\n",
       "      <td>Yes</td>\n",
       "      <td>No</td>\n",
       "      <td>No</td>\n",
       "      <td>Yes</td>\n",
       "      <td>No, did not receive any tetanus shot in the pa...</td>\n",
       "      <td>No</td>\n",
       "      <td>Yes</td>\n",
       "    </tr>\n",
       "    <tr>\n",
       "      <th>3</th>\n",
       "      <td>Alabama</td>\n",
       "      <td>Female</td>\n",
       "      <td>Fair</td>\n",
       "      <td>5.0</td>\n",
       "      <td>0.0</td>\n",
       "      <td>Within past year (anytime less than 12 months ...</td>\n",
       "      <td>Yes</td>\n",
       "      <td>9.0</td>\n",
       "      <td>None of them</td>\n",
       "      <td>No</td>\n",
       "      <td>...</td>\n",
       "      <td>1.70</td>\n",
       "      <td>90.72</td>\n",
       "      <td>31.32</td>\n",
       "      <td>No</td>\n",
       "      <td>No</td>\n",
       "      <td>Yes</td>\n",
       "      <td>Yes</td>\n",
       "      <td>No, did not receive any tetanus shot in the pa...</td>\n",
       "      <td>No</td>\n",
       "      <td>Yes</td>\n",
       "    </tr>\n",
       "    <tr>\n",
       "      <th>4</th>\n",
       "      <td>Alabama</td>\n",
       "      <td>Female</td>\n",
       "      <td>Good</td>\n",
       "      <td>3.0</td>\n",
       "      <td>15.0</td>\n",
       "      <td>Within past year (anytime less than 12 months ...</td>\n",
       "      <td>Yes</td>\n",
       "      <td>5.0</td>\n",
       "      <td>1 to 5</td>\n",
       "      <td>No</td>\n",
       "      <td>...</td>\n",
       "      <td>1.55</td>\n",
       "      <td>79.38</td>\n",
       "      <td>33.07</td>\n",
       "      <td>No</td>\n",
       "      <td>No</td>\n",
       "      <td>Yes</td>\n",
       "      <td>Yes</td>\n",
       "      <td>No, did not receive any tetanus shot in the pa...</td>\n",
       "      <td>No</td>\n",
       "      <td>No</td>\n",
       "    </tr>\n",
       "  </tbody>\n",
       "</table>\n",
       "<p>5 rows × 40 columns</p>\n",
       "</div>"
      ],
      "text/plain": [
       "     State     Sex GeneralHealth  PhysicalHealthDays  MentalHealthDays  \\\n",
       "0  Alabama  Female     Very good                 4.0               0.0   \n",
       "1  Alabama    Male     Very good                 0.0               0.0   \n",
       "2  Alabama    Male     Very good                 0.0               0.0   \n",
       "3  Alabama  Female          Fair                 5.0               0.0   \n",
       "4  Alabama  Female          Good                 3.0              15.0   \n",
       "\n",
       "                                     LastCheckupTime PhysicalActivities  \\\n",
       "0  Within past year (anytime less than 12 months ...                Yes   \n",
       "1  Within past year (anytime less than 12 months ...                Yes   \n",
       "2  Within past year (anytime less than 12 months ...                 No   \n",
       "3  Within past year (anytime less than 12 months ...                Yes   \n",
       "4  Within past year (anytime less than 12 months ...                Yes   \n",
       "\n",
       "   SleepHours            RemovedTeeth HadHeartAttack  ... HeightInMeters  \\\n",
       "0         9.0            None of them             No  ...           1.60   \n",
       "1         6.0            None of them             No  ...           1.78   \n",
       "2         8.0  6 or more, but not all             No  ...           1.85   \n",
       "3         9.0            None of them             No  ...           1.70   \n",
       "4         5.0                  1 to 5             No  ...           1.55   \n",
       "\n",
       "  WeightInKilograms    BMI AlcoholDrinkers HIVTesting FluVaxLast12  \\\n",
       "0             71.67  27.99              No         No          Yes   \n",
       "1             95.25  30.13              No         No          Yes   \n",
       "2            108.86  31.66             Yes         No           No   \n",
       "3             90.72  31.32              No         No          Yes   \n",
       "4             79.38  33.07              No         No          Yes   \n",
       "\n",
       "  PneumoVaxEver                                  TetanusLast10Tdap  \\\n",
       "0           Yes                                 Yes, received Tdap   \n",
       "1           Yes  Yes, received tetanus shot but not sure what type   \n",
       "2           Yes  No, did not receive any tetanus shot in the pa...   \n",
       "3           Yes  No, did not receive any tetanus shot in the pa...   \n",
       "4           Yes  No, did not receive any tetanus shot in the pa...   \n",
       "\n",
       "  HighRiskLastYear CovidPos  \n",
       "0               No       No  \n",
       "1               No       No  \n",
       "2               No      Yes  \n",
       "3               No      Yes  \n",
       "4               No       No  \n",
       "\n",
       "[5 rows x 40 columns]"
      ]
     },
     "execution_count": 108,
     "metadata": {},
     "output_type": "execute_result"
    }
   ],
   "source": [
    "df = pd.read_csv('data/heart_2022_no_nans.csv')\n",
    "df.head()"
   ]
  },
  {
   "cell_type": "code",
   "execution_count": 109,
   "metadata": {},
   "outputs": [
    {
     "data": {
      "text/plain": [
       "Index(['State', 'Sex', 'GeneralHealth', 'PhysicalHealthDays',\n",
       "       'MentalHealthDays', 'LastCheckupTime', 'PhysicalActivities',\n",
       "       'SleepHours', 'RemovedTeeth', 'HadHeartAttack', 'HadAngina',\n",
       "       'HadStroke', 'HadAsthma', 'HadSkinCancer', 'HadCOPD',\n",
       "       'HadDepressiveDisorder', 'HadKidneyDisease', 'HadArthritis',\n",
       "       'HadDiabetes', 'DeafOrHardOfHearing', 'BlindOrVisionDifficulty',\n",
       "       'DifficultyConcentrating', 'DifficultyWalking',\n",
       "       'DifficultyDressingBathing', 'DifficultyErrands', 'SmokerStatus',\n",
       "       'ECigaretteUsage', 'ChestScan', 'RaceEthnicityCategory', 'AgeCategory',\n",
       "       'HeightInMeters', 'WeightInKilograms', 'BMI', 'AlcoholDrinkers',\n",
       "       'HIVTesting', 'FluVaxLast12', 'PneumoVaxEver', 'TetanusLast10Tdap',\n",
       "       'HighRiskLastYear', 'CovidPos'],\n",
       "      dtype='object')"
      ]
     },
     "execution_count": 109,
     "metadata": {},
     "output_type": "execute_result"
    }
   ],
   "source": [
    "# get column names\n",
    "col_names = df.columns\n",
    "col_names"
   ]
  },
  {
   "cell_type": "code",
   "execution_count": 110,
   "metadata": {},
   "outputs": [
    {
     "data": {
      "text/plain": [
       "State                         object\n",
       "Sex                           object\n",
       "GeneralHealth                 object\n",
       "PhysicalHealthDays           float64\n",
       "MentalHealthDays             float64\n",
       "LastCheckupTime               object\n",
       "PhysicalActivities            object\n",
       "SleepHours                   float64\n",
       "RemovedTeeth                  object\n",
       "HadHeartAttack                object\n",
       "HadAngina                     object\n",
       "HadStroke                     object\n",
       "HadAsthma                     object\n",
       "HadSkinCancer                 object\n",
       "HadCOPD                       object\n",
       "HadDepressiveDisorder         object\n",
       "HadKidneyDisease              object\n",
       "HadArthritis                  object\n",
       "HadDiabetes                   object\n",
       "DeafOrHardOfHearing           object\n",
       "BlindOrVisionDifficulty       object\n",
       "DifficultyConcentrating       object\n",
       "DifficultyWalking             object\n",
       "DifficultyDressingBathing     object\n",
       "DifficultyErrands             object\n",
       "SmokerStatus                  object\n",
       "ECigaretteUsage               object\n",
       "ChestScan                     object\n",
       "RaceEthnicityCategory         object\n",
       "AgeCategory                   object\n",
       "HeightInMeters               float64\n",
       "WeightInKilograms            float64\n",
       "BMI                          float64\n",
       "AlcoholDrinkers               object\n",
       "HIVTesting                    object\n",
       "FluVaxLast12                  object\n",
       "PneumoVaxEver                 object\n",
       "TetanusLast10Tdap             object\n",
       "HighRiskLastYear              object\n",
       "CovidPos                      object\n",
       "dtype: object"
      ]
     },
     "execution_count": 110,
     "metadata": {},
     "output_type": "execute_result"
    }
   ],
   "source": [
    "# get column data types\n",
    "df.dtypes"
   ]
  },
  {
   "cell_type": "code",
   "execution_count": 111,
   "metadata": {},
   "outputs": [
    {
     "data": {
      "text/plain": [
       "(246022, 40)"
      ]
     },
     "execution_count": 111,
     "metadata": {},
     "output_type": "execute_result"
    }
   ],
   "source": [
    "# get number of rows and columns\n",
    "df.shape"
   ]
  },
  {
   "cell_type": "code",
   "execution_count": 112,
   "metadata": {},
   "outputs": [
    {
     "data": {
      "text/html": [
       "<div>\n",
       "<style scoped>\n",
       "    .dataframe tbody tr th:only-of-type {\n",
       "        vertical-align: middle;\n",
       "    }\n",
       "\n",
       "    .dataframe tbody tr th {\n",
       "        vertical-align: top;\n",
       "    }\n",
       "\n",
       "    .dataframe thead th {\n",
       "        text-align: right;\n",
       "    }\n",
       "</style>\n",
       "<table border=\"1\" class=\"dataframe\">\n",
       "  <thead>\n",
       "    <tr style=\"text-align: right;\">\n",
       "      <th></th>\n",
       "      <th>PhysicalHealthDays</th>\n",
       "      <th>MentalHealthDays</th>\n",
       "      <th>SleepHours</th>\n",
       "      <th>HeightInMeters</th>\n",
       "      <th>WeightInKilograms</th>\n",
       "      <th>BMI</th>\n",
       "    </tr>\n",
       "  </thead>\n",
       "  <tbody>\n",
       "    <tr>\n",
       "      <th>count</th>\n",
       "      <td>246022.000000</td>\n",
       "      <td>246022.000000</td>\n",
       "      <td>246022.000000</td>\n",
       "      <td>246022.000000</td>\n",
       "      <td>246022.000000</td>\n",
       "      <td>246022.000000</td>\n",
       "    </tr>\n",
       "    <tr>\n",
       "      <th>mean</th>\n",
       "      <td>4.119026</td>\n",
       "      <td>4.167140</td>\n",
       "      <td>7.021331</td>\n",
       "      <td>1.705150</td>\n",
       "      <td>83.615179</td>\n",
       "      <td>28.668136</td>\n",
       "    </tr>\n",
       "    <tr>\n",
       "      <th>std</th>\n",
       "      <td>8.405844</td>\n",
       "      <td>8.102687</td>\n",
       "      <td>1.440681</td>\n",
       "      <td>0.106654</td>\n",
       "      <td>21.323156</td>\n",
       "      <td>6.513973</td>\n",
       "    </tr>\n",
       "    <tr>\n",
       "      <th>min</th>\n",
       "      <td>0.000000</td>\n",
       "      <td>0.000000</td>\n",
       "      <td>1.000000</td>\n",
       "      <td>0.910000</td>\n",
       "      <td>28.120000</td>\n",
       "      <td>12.020000</td>\n",
       "    </tr>\n",
       "    <tr>\n",
       "      <th>25%</th>\n",
       "      <td>0.000000</td>\n",
       "      <td>0.000000</td>\n",
       "      <td>6.000000</td>\n",
       "      <td>1.630000</td>\n",
       "      <td>68.040000</td>\n",
       "      <td>24.270000</td>\n",
       "    </tr>\n",
       "    <tr>\n",
       "      <th>50%</th>\n",
       "      <td>0.000000</td>\n",
       "      <td>0.000000</td>\n",
       "      <td>7.000000</td>\n",
       "      <td>1.700000</td>\n",
       "      <td>81.650000</td>\n",
       "      <td>27.460000</td>\n",
       "    </tr>\n",
       "    <tr>\n",
       "      <th>75%</th>\n",
       "      <td>3.000000</td>\n",
       "      <td>4.000000</td>\n",
       "      <td>8.000000</td>\n",
       "      <td>1.780000</td>\n",
       "      <td>95.250000</td>\n",
       "      <td>31.890000</td>\n",
       "    </tr>\n",
       "    <tr>\n",
       "      <th>max</th>\n",
       "      <td>30.000000</td>\n",
       "      <td>30.000000</td>\n",
       "      <td>24.000000</td>\n",
       "      <td>2.410000</td>\n",
       "      <td>292.570000</td>\n",
       "      <td>97.650000</td>\n",
       "    </tr>\n",
       "  </tbody>\n",
       "</table>\n",
       "</div>"
      ],
      "text/plain": [
       "       PhysicalHealthDays  MentalHealthDays     SleepHours  HeightInMeters  \\\n",
       "count       246022.000000     246022.000000  246022.000000   246022.000000   \n",
       "mean             4.119026          4.167140       7.021331        1.705150   \n",
       "std              8.405844          8.102687       1.440681        0.106654   \n",
       "min              0.000000          0.000000       1.000000        0.910000   \n",
       "25%              0.000000          0.000000       6.000000        1.630000   \n",
       "50%              0.000000          0.000000       7.000000        1.700000   \n",
       "75%              3.000000          4.000000       8.000000        1.780000   \n",
       "max             30.000000         30.000000      24.000000        2.410000   \n",
       "\n",
       "       WeightInKilograms            BMI  \n",
       "count      246022.000000  246022.000000  \n",
       "mean           83.615179      28.668136  \n",
       "std            21.323156       6.513973  \n",
       "min            28.120000      12.020000  \n",
       "25%            68.040000      24.270000  \n",
       "50%            81.650000      27.460000  \n",
       "75%            95.250000      31.890000  \n",
       "max           292.570000      97.650000  "
      ]
     },
     "execution_count": 112,
     "metadata": {},
     "output_type": "execute_result"
    }
   ],
   "source": [
    "# get a statistical summary of the data\n",
    "df.describe()"
   ]
  },
  {
   "cell_type": "code",
   "execution_count": 113,
   "metadata": {},
   "outputs": [
    {
     "data": {
      "text/plain": [
       "State                        0\n",
       "Sex                          0\n",
       "GeneralHealth                0\n",
       "PhysicalHealthDays           0\n",
       "MentalHealthDays             0\n",
       "LastCheckupTime              0\n",
       "PhysicalActivities           0\n",
       "SleepHours                   0\n",
       "RemovedTeeth                 0\n",
       "HadHeartAttack               0\n",
       "HadAngina                    0\n",
       "HadStroke                    0\n",
       "HadAsthma                    0\n",
       "HadSkinCancer                0\n",
       "HadCOPD                      0\n",
       "HadDepressiveDisorder        0\n",
       "HadKidneyDisease             0\n",
       "HadArthritis                 0\n",
       "HadDiabetes                  0\n",
       "DeafOrHardOfHearing          0\n",
       "BlindOrVisionDifficulty      0\n",
       "DifficultyConcentrating      0\n",
       "DifficultyWalking            0\n",
       "DifficultyDressingBathing    0\n",
       "DifficultyErrands            0\n",
       "SmokerStatus                 0\n",
       "ECigaretteUsage              0\n",
       "ChestScan                    0\n",
       "RaceEthnicityCategory        0\n",
       "AgeCategory                  0\n",
       "HeightInMeters               0\n",
       "WeightInKilograms            0\n",
       "BMI                          0\n",
       "AlcoholDrinkers              0\n",
       "HIVTesting                   0\n",
       "FluVaxLast12                 0\n",
       "PneumoVaxEver                0\n",
       "TetanusLast10Tdap            0\n",
       "HighRiskLastYear             0\n",
       "CovidPos                     0\n",
       "dtype: int64"
      ]
     },
     "execution_count": 113,
     "metadata": {},
     "output_type": "execute_result"
    }
   ],
   "source": [
    "# check for any null columns\n",
    "df.isnull().sum()"
   ]
  },
  {
   "cell_type": "markdown",
   "metadata": {},
   "source": [
    "Since there are no empty rows in the dataset, we don't have to deal with any missing values."
   ]
  },
  {
   "cell_type": "markdown",
   "metadata": {},
   "source": [
    "# Exploratory Data Analysis"
   ]
  },
  {
   "cell_type": "code",
   "execution_count": 114,
   "metadata": {},
   "outputs": [],
   "source": [
    "# get categorical columns and numerical columns\n",
    "cat_cols = df.select_dtypes(include=['object']).columns.tolist()\n",
    "num_cols = df.select_dtypes(include=['number']).columns.tolist()"
   ]
  },
  {
   "cell_type": "code",
   "execution_count": 115,
   "metadata": {},
   "outputs": [
    {
     "data": {
      "text/plain": [
       "['State',\n",
       " 'Sex',\n",
       " 'GeneralHealth',\n",
       " 'LastCheckupTime',\n",
       " 'PhysicalActivities',\n",
       " 'RemovedTeeth',\n",
       " 'HadHeartAttack',\n",
       " 'HadAngina',\n",
       " 'HadStroke',\n",
       " 'HadAsthma',\n",
       " 'HadSkinCancer',\n",
       " 'HadCOPD',\n",
       " 'HadDepressiveDisorder',\n",
       " 'HadKidneyDisease',\n",
       " 'HadArthritis',\n",
       " 'HadDiabetes',\n",
       " 'DeafOrHardOfHearing',\n",
       " 'BlindOrVisionDifficulty',\n",
       " 'DifficultyConcentrating',\n",
       " 'DifficultyWalking',\n",
       " 'DifficultyDressingBathing',\n",
       " 'DifficultyErrands',\n",
       " 'SmokerStatus',\n",
       " 'ECigaretteUsage',\n",
       " 'ChestScan',\n",
       " 'RaceEthnicityCategory',\n",
       " 'AgeCategory',\n",
       " 'AlcoholDrinkers',\n",
       " 'HIVTesting',\n",
       " 'FluVaxLast12',\n",
       " 'PneumoVaxEver',\n",
       " 'TetanusLast10Tdap',\n",
       " 'HighRiskLastYear',\n",
       " 'CovidPos']"
      ]
     },
     "execution_count": 115,
     "metadata": {},
     "output_type": "execute_result"
    }
   ],
   "source": [
    "cat_cols"
   ]
  },
  {
   "cell_type": "code",
   "execution_count": 116,
   "metadata": {},
   "outputs": [
    {
     "data": {
      "text/plain": [
       "['Sex',\n",
       " 'GeneralHealth',\n",
       " 'PhysicalActivities',\n",
       " 'HadHeartAttack',\n",
       " 'HadAngina',\n",
       " 'HadStroke',\n",
       " 'HadAsthma',\n",
       " 'HadSkinCancer',\n",
       " 'HadCOPD',\n",
       " 'HadDepressiveDisorder',\n",
       " 'HadKidneyDisease',\n",
       " 'HadArthritis',\n",
       " 'HadDiabetes',\n",
       " 'SmokerStatus',\n",
       " 'ECigaretteUsage',\n",
       " 'ChestScan',\n",
       " 'RaceEthnicityCategory',\n",
       " 'AgeCategory',\n",
       " 'AlcoholDrinkers',\n",
       " 'HIVTesting']"
      ]
     },
     "execution_count": 116,
     "metadata": {},
     "output_type": "execute_result"
    }
   ],
   "source": [
    "# removing certain cols that aren't related to visualize\n",
    "remove_from_cat_cols = [\n",
    " 'State',\n",
    " 'LastCheckupTime',\n",
    " 'RemovedTeeth',\n",
    " 'DeafOrHardOfHearing',\n",
    " 'BlindOrVisionDifficulty',\n",
    " 'DifficultyConcentrating',\n",
    " 'DifficultyWalking',\n",
    " 'DifficultyDressingBathing',\n",
    " 'DifficultyErrands',\n",
    " 'FluVaxLast12',\n",
    " 'PneumoVaxEver',\n",
    " 'TetanusLast10Tdap',\n",
    " 'HighRiskLastYear',\n",
    " 'CovidPos'\n",
    "]\n",
    "\n",
    "viz_cols = [val for val in cat_cols if val not in remove_from_cat_cols]\n",
    "viz_cols"
   ]
  },
  {
   "cell_type": "code",
   "execution_count": 117,
   "metadata": {},
   "outputs": [
    {
     "data": {
      "image/png": "[encoded data removed]",
      "text/plain": [
       "<Figure size 1800x2520 with 20 Axes>"
      ]
     },
     "metadata": {
      "needs_background": "light"
     },
     "output_type": "display_data"
    }
   ],
   "source": [
    "# Set up the figure with multiple subplots\n",
    "fig, axes = plt.subplots(nrows=5, ncols=4, figsize=(25, 35))\n",
    "fig.suptitle(\"People with Heart Disease\", y=1.005, fontsize=24)\n",
    "\n",
    "# Iterate over columns and create countplots\n",
    "for i, col in enumerate(viz_cols):\n",
    "    ax = axes[i // 4, i % 4]\n",
    "    sns.countplot(data=df, x='HadHeartAttack', hue=col, ax=ax)\n",
    "    ax.legend(title=col)\n",
    "    ax.set_title(f'People with Heart Disease - {col}')\n",
    "\n",
    "# Adjust layout for better spacing\n",
    "plt.tight_layout()\n",
    "\n",
    "# Show the plot\n",
    "plt.show()"
   ]
  },
  {
   "cell_type": "markdown",
   "metadata": {},
   "source": [
    "# Splitting the Data"
   ]
  },
  {
   "cell_type": "code",
   "execution_count": 118,
   "metadata": {},
   "outputs": [],
   "source": [
    "from sklearn.model_selection import train_test_split\n",
    "\n",
    "X = df.drop(['State', 'HadHeartAttack'], axis=1)\n",
    "y = df['HadHeartAttack']\n",
    "\n",
    "X_train, X_test, y_train, y_test = train_test_split(X, y, test_size=0.2, random_state=85)"
   ]
  },
  {
   "cell_type": "code",
   "execution_count": 119,
   "metadata": {},
   "outputs": [
    {
     "data": {
      "text/html": [
       "<div>\n",
       "<style scoped>\n",
       "    .dataframe tbody tr th:only-of-type {\n",
       "        vertical-align: middle;\n",
       "    }\n",
       "\n",
       "    .dataframe tbody tr th {\n",
       "        vertical-align: top;\n",
       "    }\n",
       "\n",
       "    .dataframe thead th {\n",
       "        text-align: right;\n",
       "    }\n",
       "</style>\n",
       "<table border=\"1\" class=\"dataframe\">\n",
       "  <thead>\n",
       "    <tr style=\"text-align: right;\">\n",
       "      <th></th>\n",
       "      <th>Sex</th>\n",
       "      <th>GeneralHealth</th>\n",
       "      <th>PhysicalHealthDays</th>\n",
       "      <th>MentalHealthDays</th>\n",
       "      <th>LastCheckupTime</th>\n",
       "      <th>PhysicalActivities</th>\n",
       "      <th>SleepHours</th>\n",
       "      <th>RemovedTeeth</th>\n",
       "      <th>HadAngina</th>\n",
       "      <th>HadStroke</th>\n",
       "      <th>...</th>\n",
       "      <th>HeightInMeters</th>\n",
       "      <th>WeightInKilograms</th>\n",
       "      <th>BMI</th>\n",
       "      <th>AlcoholDrinkers</th>\n",
       "      <th>HIVTesting</th>\n",
       "      <th>FluVaxLast12</th>\n",
       "      <th>PneumoVaxEver</th>\n",
       "      <th>TetanusLast10Tdap</th>\n",
       "      <th>HighRiskLastYear</th>\n",
       "      <th>CovidPos</th>\n",
       "    </tr>\n",
       "  </thead>\n",
       "  <tbody>\n",
       "    <tr>\n",
       "      <th>108770</th>\n",
       "      <td>Male</td>\n",
       "      <td>Very good</td>\n",
       "      <td>0.0</td>\n",
       "      <td>1.0</td>\n",
       "      <td>Within past 2 years (1 year but less than 2 ye...</td>\n",
       "      <td>Yes</td>\n",
       "      <td>9.0</td>\n",
       "      <td>None of them</td>\n",
       "      <td>No</td>\n",
       "      <td>No</td>\n",
       "      <td>...</td>\n",
       "      <td>1.78</td>\n",
       "      <td>65.77</td>\n",
       "      <td>20.81</td>\n",
       "      <td>Yes</td>\n",
       "      <td>No</td>\n",
       "      <td>No</td>\n",
       "      <td>No</td>\n",
       "      <td>Yes, received tetanus shot, but not Tdap</td>\n",
       "      <td>No</td>\n",
       "      <td>No</td>\n",
       "    </tr>\n",
       "    <tr>\n",
       "      <th>139888</th>\n",
       "      <td>Male</td>\n",
       "      <td>Very good</td>\n",
       "      <td>7.0</td>\n",
       "      <td>1.0</td>\n",
       "      <td>Within past year (anytime less than 12 months ...</td>\n",
       "      <td>Yes</td>\n",
       "      <td>3.0</td>\n",
       "      <td>1 to 5</td>\n",
       "      <td>No</td>\n",
       "      <td>No</td>\n",
       "      <td>...</td>\n",
       "      <td>1.93</td>\n",
       "      <td>99.79</td>\n",
       "      <td>26.78</td>\n",
       "      <td>No</td>\n",
       "      <td>No</td>\n",
       "      <td>Yes</td>\n",
       "      <td>No</td>\n",
       "      <td>No, did not receive any tetanus shot in the pa...</td>\n",
       "      <td>No</td>\n",
       "      <td>No</td>\n",
       "    </tr>\n",
       "    <tr>\n",
       "      <th>78834</th>\n",
       "      <td>Female</td>\n",
       "      <td>Very good</td>\n",
       "      <td>0.0</td>\n",
       "      <td>0.0</td>\n",
       "      <td>Within past year (anytime less than 12 months ...</td>\n",
       "      <td>Yes</td>\n",
       "      <td>8.0</td>\n",
       "      <td>All</td>\n",
       "      <td>No</td>\n",
       "      <td>No</td>\n",
       "      <td>...</td>\n",
       "      <td>1.73</td>\n",
       "      <td>86.18</td>\n",
       "      <td>28.89</td>\n",
       "      <td>No</td>\n",
       "      <td>No</td>\n",
       "      <td>No</td>\n",
       "      <td>No</td>\n",
       "      <td>Yes, received tetanus shot but not sure what type</td>\n",
       "      <td>No</td>\n",
       "      <td>Yes</td>\n",
       "    </tr>\n",
       "    <tr>\n",
       "      <th>204500</th>\n",
       "      <td>Female</td>\n",
       "      <td>Very good</td>\n",
       "      <td>1.0</td>\n",
       "      <td>28.0</td>\n",
       "      <td>Within past year (anytime less than 12 months ...</td>\n",
       "      <td>No</td>\n",
       "      <td>5.0</td>\n",
       "      <td>All</td>\n",
       "      <td>No</td>\n",
       "      <td>No</td>\n",
       "      <td>...</td>\n",
       "      <td>1.75</td>\n",
       "      <td>108.86</td>\n",
       "      <td>35.44</td>\n",
       "      <td>No</td>\n",
       "      <td>Yes</td>\n",
       "      <td>Yes</td>\n",
       "      <td>No</td>\n",
       "      <td>Yes, received Tdap</td>\n",
       "      <td>Yes</td>\n",
       "      <td>No</td>\n",
       "    </tr>\n",
       "    <tr>\n",
       "      <th>169662</th>\n",
       "      <td>Male</td>\n",
       "      <td>Very good</td>\n",
       "      <td>5.0</td>\n",
       "      <td>0.0</td>\n",
       "      <td>Within past year (anytime less than 12 months ...</td>\n",
       "      <td>Yes</td>\n",
       "      <td>7.0</td>\n",
       "      <td>None of them</td>\n",
       "      <td>Yes</td>\n",
       "      <td>Yes</td>\n",
       "      <td>...</td>\n",
       "      <td>1.78</td>\n",
       "      <td>99.79</td>\n",
       "      <td>31.57</td>\n",
       "      <td>Yes</td>\n",
       "      <td>No</td>\n",
       "      <td>Yes</td>\n",
       "      <td>Yes</td>\n",
       "      <td>Yes, received tetanus shot but not sure what type</td>\n",
       "      <td>No</td>\n",
       "      <td>Tested positive using home test without a heal...</td>\n",
       "    </tr>\n",
       "  </tbody>\n",
       "</table>\n",
       "<p>5 rows × 38 columns</p>\n",
       "</div>"
      ],
      "text/plain": [
       "           Sex GeneralHealth  PhysicalHealthDays  MentalHealthDays  \\\n",
       "108770    Male     Very good                 0.0               1.0   \n",
       "139888    Male     Very good                 7.0               1.0   \n",
       "78834   Female     Very good                 0.0               0.0   \n",
       "204500  Female     Very good                 1.0              28.0   \n",
       "169662    Male     Very good                 5.0               0.0   \n",
       "\n",
       "                                          LastCheckupTime PhysicalActivities  \\\n",
       "108770  Within past 2 years (1 year but less than 2 ye...                Yes   \n",
       "139888  Within past year (anytime less than 12 months ...                Yes   \n",
       "78834   Within past year (anytime less than 12 months ...                Yes   \n",
       "204500  Within past year (anytime less than 12 months ...                 No   \n",
       "169662  Within past year (anytime less than 12 months ...                Yes   \n",
       "\n",
       "        SleepHours  RemovedTeeth HadAngina HadStroke  ... HeightInMeters  \\\n",
       "108770         9.0  None of them        No        No  ...           1.78   \n",
       "139888         3.0        1 to 5        No        No  ...           1.93   \n",
       "78834          8.0           All        No        No  ...           1.73   \n",
       "204500         5.0           All        No        No  ...           1.75   \n",
       "169662         7.0  None of them       Yes       Yes  ...           1.78   \n",
       "\n",
       "       WeightInKilograms    BMI AlcoholDrinkers HIVTesting FluVaxLast12  \\\n",
       "108770             65.77  20.81             Yes         No           No   \n",
       "139888             99.79  26.78              No         No          Yes   \n",
       "78834              86.18  28.89              No         No           No   \n",
       "204500            108.86  35.44              No        Yes          Yes   \n",
       "169662             99.79  31.57             Yes         No          Yes   \n",
       "\n",
       "       PneumoVaxEver                                  TetanusLast10Tdap  \\\n",
       "108770            No           Yes, received tetanus shot, but not Tdap   \n",
       "139888            No  No, did not receive any tetanus shot in the pa...   \n",
       "78834             No  Yes, received tetanus shot but not sure what type   \n",
       "204500            No                                 Yes, received Tdap   \n",
       "169662           Yes  Yes, received tetanus shot but not sure what type   \n",
       "\n",
       "       HighRiskLastYear                                           CovidPos  \n",
       "108770               No                                                 No  \n",
       "139888               No                                                 No  \n",
       "78834                No                                                Yes  \n",
       "204500              Yes                                                 No  \n",
       "169662               No  Tested positive using home test without a heal...  \n",
       "\n",
       "[5 rows x 38 columns]"
      ]
     },
     "execution_count": 119,
     "metadata": {},
     "output_type": "execute_result"
    }
   ],
   "source": [
    "X_train.head()"
   ]
  },
  {
   "cell_type": "code",
   "execution_count": 120,
   "metadata": {},
   "outputs": [
    {
     "name": "stdout",
     "output_type": "stream",
     "text": [
      "X_train shape: (196817, 38)\n",
      "X_test shape: (49205, 38)\n"
     ]
    }
   ],
   "source": [
    "print('X_train shape:', X_train.shape)\n",
    "print('X_test shape:', X_test.shape)"
   ]
  },
  {
   "cell_type": "markdown",
   "metadata": {},
   "source": [
    "# Encoding the Data"
   ]
  },
  {
   "cell_type": "code",
   "execution_count": 121,
   "metadata": {},
   "outputs": [],
   "source": [
    "mapping = {'Yes': 1, 'No': 0}\n",
    "questions_penyakit = X_train.filter(like='Had', axis=1)\n",
    "\n",
    "for col in questions_penyakit.columns:\n",
    "    X_train[col] = X_train[col].map(mapping).fillna(-1)\n",
    "    X_test[col] = X_test[col].map(mapping).fillna(-1)"
   ]
  },
  {
   "cell_type": "code",
   "execution_count": 122,
   "metadata": {},
   "outputs": [
    {
     "data": {
      "text/html": [
       "<div>\n",
       "<style scoped>\n",
       "    .dataframe tbody tr th:only-of-type {\n",
       "        vertical-align: middle;\n",
       "    }\n",
       "\n",
       "    .dataframe tbody tr th {\n",
       "        vertical-align: top;\n",
       "    }\n",
       "\n",
       "    .dataframe thead th {\n",
       "        text-align: right;\n",
       "    }\n",
       "</style>\n",
       "<table border=\"1\" class=\"dataframe\">\n",
       "  <thead>\n",
       "    <tr style=\"text-align: right;\">\n",
       "      <th></th>\n",
       "      <th>Sex</th>\n",
       "      <th>GeneralHealth</th>\n",
       "      <th>PhysicalHealthDays</th>\n",
       "      <th>MentalHealthDays</th>\n",
       "      <th>LastCheckupTime</th>\n",
       "      <th>PhysicalActivities</th>\n",
       "      <th>SleepHours</th>\n",
       "      <th>RemovedTeeth</th>\n",
       "      <th>HadAngina</th>\n",
       "      <th>HadStroke</th>\n",
       "      <th>...</th>\n",
       "      <th>HeightInMeters</th>\n",
       "      <th>WeightInKilograms</th>\n",
       "      <th>BMI</th>\n",
       "      <th>AlcoholDrinkers</th>\n",
       "      <th>HIVTesting</th>\n",
       "      <th>FluVaxLast12</th>\n",
       "      <th>PneumoVaxEver</th>\n",
       "      <th>TetanusLast10Tdap</th>\n",
       "      <th>HighRiskLastYear</th>\n",
       "      <th>CovidPos</th>\n",
       "    </tr>\n",
       "  </thead>\n",
       "  <tbody>\n",
       "    <tr>\n",
       "      <th>108770</th>\n",
       "      <td>Male</td>\n",
       "      <td>Very good</td>\n",
       "      <td>0.0</td>\n",
       "      <td>1.0</td>\n",
       "      <td>Within past 2 years (1 year but less than 2 ye...</td>\n",
       "      <td>Yes</td>\n",
       "      <td>9.0</td>\n",
       "      <td>None of them</td>\n",
       "      <td>0</td>\n",
       "      <td>0</td>\n",
       "      <td>...</td>\n",
       "      <td>1.78</td>\n",
       "      <td>65.77</td>\n",
       "      <td>20.81</td>\n",
       "      <td>Yes</td>\n",
       "      <td>No</td>\n",
       "      <td>No</td>\n",
       "      <td>No</td>\n",
       "      <td>Yes, received tetanus shot, but not Tdap</td>\n",
       "      <td>No</td>\n",
       "      <td>No</td>\n",
       "    </tr>\n",
       "    <tr>\n",
       "      <th>139888</th>\n",
       "      <td>Male</td>\n",
       "      <td>Very good</td>\n",
       "      <td>7.0</td>\n",
       "      <td>1.0</td>\n",
       "      <td>Within past year (anytime less than 12 months ...</td>\n",
       "      <td>Yes</td>\n",
       "      <td>3.0</td>\n",
       "      <td>1 to 5</td>\n",
       "      <td>0</td>\n",
       "      <td>0</td>\n",
       "      <td>...</td>\n",
       "      <td>1.93</td>\n",
       "      <td>99.79</td>\n",
       "      <td>26.78</td>\n",
       "      <td>No</td>\n",
       "      <td>No</td>\n",
       "      <td>Yes</td>\n",
       "      <td>No</td>\n",
       "      <td>No, did not receive any tetanus shot in the pa...</td>\n",
       "      <td>No</td>\n",
       "      <td>No</td>\n",
       "    </tr>\n",
       "    <tr>\n",
       "      <th>78834</th>\n",
       "      <td>Female</td>\n",
       "      <td>Very good</td>\n",
       "      <td>0.0</td>\n",
       "      <td>0.0</td>\n",
       "      <td>Within past year (anytime less than 12 months ...</td>\n",
       "      <td>Yes</td>\n",
       "      <td>8.0</td>\n",
       "      <td>All</td>\n",
       "      <td>0</td>\n",
       "      <td>0</td>\n",
       "      <td>...</td>\n",
       "      <td>1.73</td>\n",
       "      <td>86.18</td>\n",
       "      <td>28.89</td>\n",
       "      <td>No</td>\n",
       "      <td>No</td>\n",
       "      <td>No</td>\n",
       "      <td>No</td>\n",
       "      <td>Yes, received tetanus shot but not sure what type</td>\n",
       "      <td>No</td>\n",
       "      <td>Yes</td>\n",
       "    </tr>\n",
       "    <tr>\n",
       "      <th>204500</th>\n",
       "      <td>Female</td>\n",
       "      <td>Very good</td>\n",
       "      <td>1.0</td>\n",
       "      <td>28.0</td>\n",
       "      <td>Within past year (anytime less than 12 months ...</td>\n",
       "      <td>No</td>\n",
       "      <td>5.0</td>\n",
       "      <td>All</td>\n",
       "      <td>0</td>\n",
       "      <td>0</td>\n",
       "      <td>...</td>\n",
       "      <td>1.75</td>\n",
       "      <td>108.86</td>\n",
       "      <td>35.44</td>\n",
       "      <td>No</td>\n",
       "      <td>Yes</td>\n",
       "      <td>Yes</td>\n",
       "      <td>No</td>\n",
       "      <td>Yes, received Tdap</td>\n",
       "      <td>Yes</td>\n",
       "      <td>No</td>\n",
       "    </tr>\n",
       "    <tr>\n",
       "      <th>169662</th>\n",
       "      <td>Male</td>\n",
       "      <td>Very good</td>\n",
       "      <td>5.0</td>\n",
       "      <td>0.0</td>\n",
       "      <td>Within past year (anytime less than 12 months ...</td>\n",
       "      <td>Yes</td>\n",
       "      <td>7.0</td>\n",
       "      <td>None of them</td>\n",
       "      <td>1</td>\n",
       "      <td>1</td>\n",
       "      <td>...</td>\n",
       "      <td>1.78</td>\n",
       "      <td>99.79</td>\n",
       "      <td>31.57</td>\n",
       "      <td>Yes</td>\n",
       "      <td>No</td>\n",
       "      <td>Yes</td>\n",
       "      <td>Yes</td>\n",
       "      <td>Yes, received tetanus shot but not sure what type</td>\n",
       "      <td>No</td>\n",
       "      <td>Tested positive using home test without a heal...</td>\n",
       "    </tr>\n",
       "  </tbody>\n",
       "</table>\n",
       "<p>5 rows × 38 columns</p>\n",
       "</div>"
      ],
      "text/plain": [
       "           Sex GeneralHealth  PhysicalHealthDays  MentalHealthDays  \\\n",
       "108770    Male     Very good                 0.0               1.0   \n",
       "139888    Male     Very good                 7.0               1.0   \n",
       "78834   Female     Very good                 0.0               0.0   \n",
       "204500  Female     Very good                 1.0              28.0   \n",
       "169662    Male     Very good                 5.0               0.0   \n",
       "\n",
       "                                          LastCheckupTime PhysicalActivities  \\\n",
       "108770  Within past 2 years (1 year but less than 2 ye...                Yes   \n",
       "139888  Within past year (anytime less than 12 months ...                Yes   \n",
       "78834   Within past year (anytime less than 12 months ...                Yes   \n",
       "204500  Within past year (anytime less than 12 months ...                 No   \n",
       "169662  Within past year (anytime less than 12 months ...                Yes   \n",
       "\n",
       "        SleepHours  RemovedTeeth  HadAngina  HadStroke  ...  HeightInMeters  \\\n",
       "108770         9.0  None of them          0          0  ...            1.78   \n",
       "139888         3.0        1 to 5          0          0  ...            1.93   \n",
       "78834          8.0           All          0          0  ...            1.73   \n",
       "204500         5.0           All          0          0  ...            1.75   \n",
       "169662         7.0  None of them          1          1  ...            1.78   \n",
       "\n",
       "        WeightInKilograms    BMI  AlcoholDrinkers  HIVTesting  FluVaxLast12  \\\n",
       "108770              65.77  20.81              Yes          No            No   \n",
       "139888              99.79  26.78               No          No           Yes   \n",
       "78834               86.18  28.89               No          No            No   \n",
       "204500             108.86  35.44               No         Yes           Yes   \n",
       "169662              99.79  31.57              Yes          No           Yes   \n",
       "\n",
       "        PneumoVaxEver                                  TetanusLast10Tdap  \\\n",
       "108770             No           Yes, received tetanus shot, but not Tdap   \n",
       "139888             No  No, did not receive any tetanus shot in the pa...   \n",
       "78834              No  Yes, received tetanus shot but not sure what type   \n",
       "204500             No                                 Yes, received Tdap   \n",
       "169662            Yes  Yes, received tetanus shot but not sure what type   \n",
       "\n",
       "       HighRiskLastYear                                           CovidPos  \n",
       "108770               No                                                 No  \n",
       "139888               No                                                 No  \n",
       "78834                No                                                Yes  \n",
       "204500              Yes                                                 No  \n",
       "169662               No  Tested positive using home test without a heal...  \n",
       "\n",
       "[5 rows x 38 columns]"
      ]
     },
     "execution_count": 122,
     "metadata": {},
     "output_type": "execute_result"
    }
   ],
   "source": [
    "X_train.head()"
   ]
  },
  {
   "cell_type": "code",
   "execution_count": 123,
   "metadata": {},
   "outputs": [],
   "source": [
    "import category_encoders as ce\n",
    "ce_columns = ['RaceEthnicityCategory', 'TetanusLast10Tdap', 'CovidPos', 'Sex']\n",
    "\n",
    "# Create the OneHotEncoder instance\n",
    "encoder = ce.OneHotEncoder(cols=ce_columns, use_cat_names=True)\n",
    "\n",
    "# Fit and transform the training data\n",
    "X_train_encoded = encoder.fit_transform(X_train)\n",
    "\n",
    "# Transform the test data using the fitted encoder\n",
    "X_test_encoded = encoder.transform(X_test)"
   ]
  },
  {
   "cell_type": "code",
   "execution_count": 124,
   "metadata": {},
   "outputs": [],
   "source": [
    "X_train = X_train_encoded\n",
    "X_test = X_test_encoded"
   ]
  },
  {
   "cell_type": "code",
   "execution_count": 125,
   "metadata": {},
   "outputs": [],
   "source": [
    "# mapping AgeCategory\n",
    "mapping = {'Age 18 to 24': 1, 'Age 25 to 29': 2, 'Age 30 to 34':3, 'Age 35 to 39':4,\n",
    "           'Age 40 to 44': 5, 'Age 45 to 49': 6, 'Age 50 to 54':7, 'Age 55 to 59':8,\n",
    "           'Age 60 to 64':9, 'Age 65 to 69': 10,  'Age 70 to 74':11,  'Age 75 to 79':12,\n",
    "           'Age 80 or older':13 }\n",
    "X_train['AgeCategory'] = X_train['AgeCategory'].map(mapping)\n",
    "X_test['AgeCategory'] = X_test['AgeCategory'].map(mapping)"
   ]
  },
  {
   "cell_type": "code",
   "execution_count": 126,
   "metadata": {},
   "outputs": [],
   "source": [
    "# mapping ECigaretteUsage\n",
    "mapping = {'Never used e-cigarettes in my entire life': 4, 'Not at all (right now)': 3,\n",
    " 'Use them some days':2,  'Use them every day':1}\n",
    "X_train['ECigaretteUsage'] = X_train['ECigaretteUsage'].map(mapping)\n",
    "X_test['ECigaretteUsage'] = X_test['ECigaretteUsage'].map(mapping)"
   ]
  },
  {
   "cell_type": "code",
   "execution_count": 127,
   "metadata": {},
   "outputs": [],
   "source": [
    "# mapping removedTeeth\n",
    "mapping = {'None of them': 4, '1 to 5': 3, 'All': 1, '6 or more, but not all': 2}\n",
    "X_train['RemovedTeeth'] = X_train['RemovedTeeth'].map(mapping)\n",
    "X_test['RemovedTeeth'] = X_test['RemovedTeeth'].map(mapping)"
   ]
  },
  {
   "cell_type": "code",
   "execution_count": 128,
   "metadata": {},
   "outputs": [],
   "source": [
    "# mapping last checkup time\n",
    "mapping = {'Within past 2 years (1 year but less than 2 years ago)': 3,\n",
    " 'Within past year (anytime less than 12 months ago)': 4,\n",
    " 'Within past 5 years (2 years but less than 5 years ago)': 2,\n",
    " '5 or more years ago': 1}\n",
    "X_train['LastCheckupTime'] = X_train['LastCheckupTime'].map(mapping)\n",
    "X_test['LastCheckupTime'] = X_test['LastCheckupTime'].map(mapping)"
   ]
  },
  {
   "cell_type": "code",
   "execution_count": 129,
   "metadata": {},
   "outputs": [],
   "source": [
    "# mapping generalhealth\n",
    "mapping = {'Poor': 1, 'Fair': 2, 'Good': 3, 'Very good': 4, 'Excellent': 5}\n",
    "X_train['GeneralHealth'] = X_train['GeneralHealth'].map(mapping)\n",
    "X_test['GeneralHealth'] = X_test['GeneralHealth'].map(mapping)"
   ]
  },
  {
   "cell_type": "code",
   "execution_count": 130,
   "metadata": {},
   "outputs": [],
   "source": [
    "# mapping smoker\n",
    "mapping = {'Never smoked': 4, 'Former smoker': 3, 'Current smoker - now smokes some days': 2, 'Current smoker - now smokes every day': 1}\n",
    "X_train['SmokerStatus'] = X_train['SmokerStatus'].map(mapping)\n",
    "X_test['SmokerStatus'] = X_test['SmokerStatus'].map(mapping)"
   ]
  },
  {
   "cell_type": "code",
   "execution_count": 131,
   "metadata": {},
   "outputs": [
    {
     "name": "stdout",
     "output_type": "stream",
     "text": [
      "['PhysicalActivities', 'DeafOrHardOfHearing', 'BlindOrVisionDifficulty', 'DifficultyConcentrating', 'DifficultyWalking', 'DifficultyDressingBathing', 'DifficultyErrands', 'ChestScan', 'AlcoholDrinkers', 'HIVTesting', 'FluVaxLast12', 'PneumoVaxEver', 'HighRiskLastYear']\n"
     ]
    }
   ],
   "source": [
    "categorical_columns_with_two_values = []\n",
    "\n",
    "for column in X_train.columns:\n",
    "    if X_train[column].nunique() == 2 and X_train[column].dtype == 'object':\n",
    "        categorical_columns_with_two_values.append(column)\n",
    "\n",
    "# Display the result\n",
    "print(categorical_columns_with_two_values)"
   ]
  },
  {
   "cell_type": "code",
   "execution_count": 132,
   "metadata": {},
   "outputs": [],
   "source": [
    "mapping = {'Yes': 1, 'No': 0}\n",
    "\n",
    "for col in categorical_columns_with_two_values:\n",
    "    X_train[col] = X_train[col].map(mapping)\n",
    "    X_test[col] = X_test[col].map(mapping)"
   ]
  },
  {
   "cell_type": "code",
   "execution_count": 133,
   "metadata": {},
   "outputs": [
    {
     "name": "stdout",
     "output_type": "stream",
     "text": [
      "X_train shape: (196817, 48)\n",
      "X_test shape: (49205, 48)\n"
     ]
    }
   ],
   "source": [
    "print('X_train shape:', X_train.shape)\n",
    "print('X_test shape:', X_test.shape)"
   ]
  },
  {
   "cell_type": "markdown",
   "metadata": {},
   "source": [
    "# See the Most Important Features with Information Gain"
   ]
  },
  {
   "cell_type": "code",
   "execution_count": 134,
   "metadata": {},
   "outputs": [
    {
     "data": {
      "text/plain": [
       "HadAngina                                                                      0.047773\n",
       "PhysicalActivities                                                             0.041837\n",
       "RaceEthnicityCategory_White only, Non-Hispanic                                 0.037248\n",
       "CovidPos_No                                                                    0.036928\n",
       "AlcoholDrinkers                                                                0.036677\n",
       "LastCheckupTime                                                                0.034248\n",
       "ChestScan                                                                      0.034177\n",
       "Sex_Female                                                                     0.033983\n",
       "RemovedTeeth                                                                   0.033672\n",
       "FluVaxLast12                                                                   0.030797\n",
       "SmokerStatus                                                                   0.030386\n",
       "Sex_Male                                                                       0.028516\n",
       "GeneralHealth                                                                  0.027174\n",
       "ECigaretteUsage                                                                0.025060\n",
       "PneumoVaxEver                                                                  0.023818\n",
       "AgeCategory                                                                    0.021442\n",
       "HadArthritis                                                                   0.019851\n",
       "HIVTesting                                                                     0.014979\n",
       "SleepHours                                                                     0.014081\n",
       "TetanusLast10Tdap_No, did not receive any tetanus shot in the past 10 years    0.012457\n",
       "DifficultyWalking                                                              0.011800\n",
       "TetanusLast10Tdap_Yes, received tetanus shot but not sure what type            0.010352\n",
       "TetanusLast10Tdap_Yes, received Tdap                                           0.010130\n",
       "HadStroke                                                                      0.009955\n",
       "HadDiabetes                                                                    0.009461\n",
       "CovidPos_Yes                                                                   0.009242\n",
       "PhysicalHealthDays                                                             0.007682\n",
       "HadCOPD                                                                        0.007116\n",
       "DeafOrHardOfHearing                                                            0.004738\n",
       "HadDepressiveDisorder                                                          0.004572\n",
       "HadKidneyDisease                                                               0.004431\n",
       "DifficultyErrands                                                              0.004394\n",
       "HeightInMeters                                                                 0.003530\n",
       "HadAsthma                                                                      0.003385\n",
       "WeightInKilograms                                                              0.002689\n",
       "BlindOrVisionDifficulty                                                        0.002450\n",
       "DifficultyConcentrating                                                        0.002335\n",
       "DifficultyDressingBathing                                                      0.002266\n",
       "HadSkinCancer                                                                  0.001598\n",
       "MentalHealthDays                                                               0.001515\n",
       "RaceEthnicityCategory_Hispanic                                                 0.001481\n",
       "BMI                                                                            0.001476\n",
       "HighRiskLastYear                                                               0.001202\n",
       "TetanusLast10Tdap_Yes, received tetanus shot, but not Tdap                     0.000981\n",
       "RaceEthnicityCategory_Black only, Non-Hispanic                                 0.000353\n",
       "CovidPos_Tested positive using home test without a health professional         0.000058\n",
       "RaceEthnicityCategory_Other race only, Non-Hispanic                            0.000006\n",
       "RaceEthnicityCategory_Multiracial, Non-Hispanic                                0.000000\n",
       "dtype: float64"
      ]
     },
     "execution_count": 134,
     "metadata": {},
     "output_type": "execute_result"
    }
   ],
   "source": [
    "from sklearn.feature_selection import mutual_info_classif\n",
    "\n",
    "mutual_info = mutual_info_classif(X_train, y_train)\n",
    "mutual_info = pd.Series(mutual_info)\n",
    "mutual_info.index = X_train.columns\n",
    "mutual_info.sort_values(ascending=False)"
   ]
  },
  {
   "cell_type": "markdown",
   "metadata": {},
   "source": [
    "## Selecting the top XX features"
   ]
  },
  {
   "cell_type": "code",
   "execution_count": 135,
   "metadata": {},
   "outputs": [],
   "source": [
    "sorted_mutual_info = mutual_info.sort_values(ascending=False)\n",
    "\n",
    "# get the ones with more than 0.001\n",
    "selected_features = mutual_info[mutual_info > 0.001].index\n",
    "\n",
    "# Subset your feature matrix with the top 10 columns\n",
    "X_train_selected = X_train[selected_features]\n",
    "X_train = X_train_selected\n",
    "\n",
    "X_test_selected = X_test[selected_features]\n",
    "X_test = X_test_selected"
   ]
  },
  {
   "cell_type": "markdown",
   "metadata": {},
   "source": [
    "# Oversampling and Undersampling"
   ]
  },
  {
   "cell_type": "markdown",
   "metadata": {},
   "source": [
    "We can see that the data is heavily unbalanced. Thus, we will do oversampling and undersampling."
   ]
  },
  {
   "cell_type": "code",
   "execution_count": 136,
   "metadata": {},
   "outputs": [
    {
     "name": "stdout",
     "output_type": "stream",
     "text": [
      "Before OverSampling & Undersampling, counts of label 'Yes': 10758\n",
      "Before OverSampling & Undersampling, counts of label 'No': 186059 \n",
      "\n",
      "After OverSampling, counts of label 'Yes': 139544\n",
      "After OverSampling, counts of label 'No': 186059\n",
      "\n",
      "After OverSampling & Undersampling, counts of label 'Yes': 139544\n",
      "After OverSampling & Undersampling, counts of label 'No': 139544\n"
     ]
    }
   ],
   "source": [
    "print(\"Before OverSampling & Undersampling, counts of label 'Yes': {}\".format(sum(y_train == 'Yes'))) \n",
    "print(\"Before OverSampling & Undersampling, counts of label 'No': {} \\n\".format(sum(y_train == 'No'))) \n",
    "\n",
    "# apply oversampling\n",
    "oversample = RandomOverSampler(sampling_strategy=0.75)\n",
    "X_train_res, y_train_res = oversample.fit_resample(X_train, y_train.ravel()) \n",
    "  \n",
    "print(\"After OverSampling, counts of label 'Yes': {}\".format(sum(y_train_res == 'Yes'))) \n",
    "print(\"After OverSampling, counts of label 'No': {}\\n\".format(sum(y_train_res ==  'No'))) \n",
    "\n",
    "# apply near miss \n",
    "nr = NearMiss() \n",
    "  \n",
    "X_train_miss, y_train_miss = nr.fit_resample(X_train_res, y_train_res.ravel()) \n",
    "\n",
    "print(\"After OverSampling & Undersampling, counts of label 'Yes': {}\".format(sum(y_train_miss == 'Yes'))) \n",
    "print(\"After OverSampling & Undersampling, counts of label 'No': {}\".format(sum(y_train_miss ==  'No'))) "
   ]
  },
  {
   "cell_type": "code",
   "execution_count": 137,
   "metadata": {},
   "outputs": [
    {
     "name": "stdout",
     "output_type": "stream",
     "text": [
      "Number of rows in X_train: 279088\n"
     ]
    }
   ],
   "source": [
    "count_x_train_miss = X_train_miss.shape[0]\n",
    "print(\"Number of rows in X_train:\", count_x_train_miss)"
   ]
  },
  {
   "cell_type": "markdown",
   "metadata": {},
   "source": [
    "# Model 1: Decision Tree"
   ]
  },
  {
   "cell_type": "code",
   "execution_count": 138,
   "metadata": {},
   "outputs": [],
   "source": [
    "# importing stuff needed for the decision tree\n",
    "from sklearn.tree import DecisionTreeClassifier # Import Decision Tree Classifier\n",
    "from sklearn import metrics #Import scikit-learn metrics module for accuracy calculation"
   ]
  },
  {
   "cell_type": "code",
   "execution_count": 139,
   "metadata": {},
   "outputs": [],
   "source": [
    "X_train = X_train_miss\n",
    "y_train = y_train_miss"
   ]
  },
  {
   "cell_type": "code",
   "execution_count": 140,
   "metadata": {},
   "outputs": [],
   "source": [
    "# create the decision tree\n",
    "clf = DecisionTreeClassifier(criterion='entropy', random_state=5)\n",
    "clf = clf.fit(X_train,y_train)\n",
    "clf_y_pred = clf.predict(X_test)"
   ]
  },
  {
   "cell_type": "markdown",
   "metadata": {},
   "source": [
    "## Accuracy Score"
   ]
  },
  {
   "cell_type": "code",
   "execution_count": 141,
   "metadata": {},
   "outputs": [
    {
     "name": "stdout",
     "output_type": "stream",
     "text": [
      "Accuracy: 0.9010059953256783\n"
     ]
    }
   ],
   "source": [
    "print(\"Accuracy:\", metrics.accuracy_score(y_test, clf_y_pred))"
   ]
  },
  {
   "cell_type": "markdown",
   "metadata": {},
   "source": [
    "## Compare the train-set and test-set accuracy"
   ]
  },
  {
   "cell_type": "code",
   "execution_count": 142,
   "metadata": {},
   "outputs": [
    {
     "data": {
      "text/plain": [
       "array(['No', 'No', 'No', ..., 'Yes', 'Yes', 'Yes'], dtype=object)"
      ]
     },
     "execution_count": 142,
     "metadata": {},
     "output_type": "execute_result"
    }
   ],
   "source": [
    "clf_y_pred_train = clf.predict(X_train)\n",
    "clf_y_pred_train"
   ]
  },
  {
   "cell_type": "code",
   "execution_count": 143,
   "metadata": {},
   "outputs": [
    {
     "name": "stdout",
     "output_type": "stream",
     "text": [
      "Training-set accuracy score: 1.0\n"
     ]
    }
   ],
   "source": [
    "print('Training-set accuracy score:', metrics.accuracy_score(y_train, clf_y_pred_train))"
   ]
  },
  {
   "cell_type": "code",
   "execution_count": 144,
   "metadata": {},
   "outputs": [
    {
     "name": "stdout",
     "output_type": "stream",
     "text": [
      "Training set score: 1.0\n",
      "Test set score: 0.9010059953256783\n"
     ]
    }
   ],
   "source": [
    "print('Training set score:', clf.score(X_train, y_train))\n",
    "print('Test set score:', clf.score(X_test, y_test))"
   ]
  },
  {
   "cell_type": "markdown",
   "metadata": {},
   "source": [
    "## Confusion Matrix"
   ]
  },
  {
   "cell_type": "code",
   "execution_count": 145,
   "metadata": {},
   "outputs": [
    {
     "name": "stdout",
     "output_type": "stream",
     "text": [
      "Confusion matrix\n",
      "\n",
      " [[43439  3089]\n",
      " [ 1782   895]]\n",
      "\n",
      "True Positives(TP) = 43439\n",
      "True Negatives(TN) = 895\n",
      "False Positives(FP) = 3089\n",
      "False Negatives(FN) = 1782\n"
     ]
    }
   ],
   "source": [
    "from sklearn.metrics import confusion_matrix\n",
    "\n",
    "clf_cm = confusion_matrix(y_test, clf_y_pred)\n",
    "\n",
    "print('Confusion matrix\\n\\n', clf_cm)\n",
    "print('\\nTrue Positives(TP) =', clf_cm[0,0])\n",
    "print('True Negatives(TN) =', clf_cm[1,1])\n",
    "print('False Positives(FP) =', clf_cm[0,1])\n",
    "print('False Negatives(FN) =', clf_cm[1,0])"
   ]
  },
  {
   "cell_type": "code",
   "execution_count": 146,
   "metadata": {},
   "outputs": [
    {
     "data": {
      "image/png": "[encoded data removed]",
      "text/plain": [
       "<Figure size 432x288 with 2 Axes>"
      ]
     },
     "metadata": {
      "needs_background": "light"
     },
     "output_type": "display_data"
    }
   ],
   "source": [
    "# visualize confusion matrix with seaborn heatmap\n",
    "\n",
    "clf_cm_matrix = pd.DataFrame(data=clf_cm, columns=['Actual Positive:1', 'Actual Negative:0'], \n",
    "                                 index=['Predict Positive:1', 'Predict Negative:0'])\n",
    "sns.heatmap(clf_cm_matrix, annot=True, fmt='d', cmap='YlGnBu')\n",
    "plt.title('Confusion Matrix for Decision Tree Model')\n",
    "plt.show()"
   ]
  },
  {
   "cell_type": "markdown",
   "metadata": {},
   "source": [
    "## Classification report"
   ]
  },
  {
   "cell_type": "code",
   "execution_count": 147,
   "metadata": {},
   "outputs": [
    {
     "name": "stdout",
     "output_type": "stream",
     "text": [
      "              precision    recall  f1-score   support\n",
      "\n",
      "          No       0.96      0.93      0.95     46528\n",
      "         Yes       0.22      0.33      0.27      2677\n",
      "\n",
      "    accuracy                           0.90     49205\n",
      "   macro avg       0.59      0.63      0.61     49205\n",
      "weighted avg       0.92      0.90      0.91     49205\n",
      "\n"
     ]
    }
   ],
   "source": [
    "print(metrics.classification_report(y_test, clf_y_pred))"
   ]
  },
  {
   "cell_type": "markdown",
   "metadata": {},
   "source": [
    "# Model 2: Naive Bayes Classifier"
   ]
  },
  {
   "cell_type": "code",
   "execution_count": 148,
   "metadata": {},
   "outputs": [
    {
     "data": {
      "text/html": [
       "<style>#sk-container-id-1 {color: black;}#sk-container-id-1 pre{padding: 0;}#sk-container-id-1 div.sk-toggleable {background-color: white;}#sk-container-id-1 label.sk-toggleable__label {cursor: pointer;display: block;width: 100%;margin-bottom: 0;padding: 0.3em;box-sizing: border-box;text-align: center;}#sk-container-id-1 label.sk-toggleable__label-arrow:before {content: \"▸\";float: left;margin-right: 0.25em;color: #696969;}#sk-container-id-1 label.sk-toggleable__label-arrow:hover:before {color: black;}#sk-container-id-1 div.sk-estimator:hover label.sk-toggleable__label-arrow:before {color: black;}#sk-container-id-1 div.sk-toggleable__content {max-height: 0;max-width: 0;overflow: hidden;text-align: left;background-color: #f0f8ff;}#sk-container-id-1 div.sk-toggleable__content pre {margin: 0.2em;color: black;border-radius: 0.25em;background-color: #f0f8ff;}#sk-container-id-1 input.sk-toggleable__control:checked~div.sk-toggleable__content {max-height: 200px;max-width: 100%;overflow: auto;}#sk-container-id-1 input.sk-toggleable__control:checked~label.sk-toggleable__label-arrow:before {content: \"▾\";}#sk-container-id-1 div.sk-estimator input.sk-toggleable__control:checked~label.sk-toggleable__label {background-color: #d4ebff;}#sk-container-id-1 div.sk-label input.sk-toggleable__control:checked~label.sk-toggleable__label {background-color: #d4ebff;}#sk-container-id-1 input.sk-hidden--visually {border: 0;clip: rect(1px 1px 1px 1px);clip: rect(1px, 1px, 1px, 1px);height: 1px;margin: -1px;overflow: hidden;padding: 0;position: absolute;width: 1px;}#sk-container-id-1 div.sk-estimator {font-family: monospace;background-color: #f0f8ff;border: 1px dotted black;border-radius: 0.25em;box-sizing: border-box;margin-bottom: 0.5em;}#sk-container-id-1 div.sk-estimator:hover {background-color: #d4ebff;}#sk-container-id-1 div.sk-parallel-item::after {content: \"\";width: 100%;border-bottom: 1px solid gray;flex-grow: 1;}#sk-container-id-1 div.sk-label:hover label.sk-toggleable__label {background-color: #d4ebff;}#sk-container-id-1 div.sk-serial::before {content: \"\";position: absolute;border-left: 1px solid gray;box-sizing: border-box;top: 0;bottom: 0;left: 50%;z-index: 0;}#sk-container-id-1 div.sk-serial {display: flex;flex-direction: column;align-items: center;background-color: white;padding-right: 0.2em;padding-left: 0.2em;position: relative;}#sk-container-id-1 div.sk-item {position: relative;z-index: 1;}#sk-container-id-1 div.sk-parallel {display: flex;align-items: stretch;justify-content: center;background-color: white;position: relative;}#sk-container-id-1 div.sk-item::before, #sk-container-id-1 div.sk-parallel-item::before {content: \"\";position: absolute;border-left: 1px solid gray;box-sizing: border-box;top: 0;bottom: 0;left: 50%;z-index: -1;}#sk-container-id-1 div.sk-parallel-item {display: flex;flex-direction: column;z-index: 1;position: relative;background-color: white;}#sk-container-id-1 div.sk-parallel-item:first-child::after {align-self: flex-end;width: 50%;}#sk-container-id-1 div.sk-parallel-item:last-child::after {align-self: flex-start;width: 50%;}#sk-container-id-1 div.sk-parallel-item:only-child::after {width: 0;}#sk-container-id-1 div.sk-dashed-wrapped {border: 1px dashed gray;margin: 0 0.4em 0.5em 0.4em;box-sizing: border-box;padding-bottom: 0.4em;background-color: white;}#sk-container-id-1 div.sk-label label {font-family: monospace;font-weight: bold;display: inline-block;line-height: 1.2em;}#sk-container-id-1 div.sk-label-container {text-align: center;}#sk-container-id-1 div.sk-container {/* jupyter's `normalize.less` sets `[hidden] { display: none; }` but bootstrap.min.css set `[hidden] { display: none !important; }` so we also need the `!important` here to be able to override the default hidden behavior on the sphinx rendered scikit-learn.org. See: https://github.com/scikit-learn/scikit-learn/issues/21755 */display: inline-block !important;position: relative;}#sk-container-id-1 div.sk-text-repr-fallback {display: none;}</style><div id=\"sk-container-id-1\" class=\"sk-top-container\"><div class=\"sk-text-repr-fallback\"><pre>GaussianNB()</pre><b>In a Jupyter environment, please rerun this cell to show the HTML representation or trust the notebook. <br />On GitHub, the HTML representation is unable to render, please try loading this page with nbviewer.org.</b></div><div class=\"sk-container\" hidden><div class=\"sk-item\"><div class=\"sk-estimator sk-toggleable\"><input class=\"sk-toggleable__control sk-hidden--visually\" id=\"sk-estimator-id-1\" type=\"checkbox\" checked><label for=\"sk-estimator-id-1\" class=\"sk-toggleable__label sk-toggleable__label-arrow\">GaussianNB</label><div class=\"sk-toggleable__content\"><pre>GaussianNB()</pre></div></div></div></div></div>"
      ],
      "text/plain": [
       "GaussianNB()"
      ]
     },
     "execution_count": 148,
     "metadata": {},
     "output_type": "execute_result"
    }
   ],
   "source": [
    "# train a Gaussian Naive Bayes classifier on the training set\n",
    "from sklearn.naive_bayes import GaussianNB\n",
    "\n",
    "# instantiate the model\n",
    "gnb = GaussianNB()\n",
    "\n",
    "# fit the model\n",
    "gnb.fit(X_train, y_train)"
   ]
  },
  {
   "cell_type": "code",
   "execution_count": 149,
   "metadata": {},
   "outputs": [
    {
     "data": {
      "text/plain": [
       "array(['No', 'No', 'Yes', ..., 'No', 'Yes', 'No'], dtype='<U3')"
      ]
     },
     "execution_count": 149,
     "metadata": {},
     "output_type": "execute_result"
    }
   ],
   "source": [
    "gnb_y_pred = gnb.predict(X_test)\n",
    "gnb_y_pred"
   ]
  },
  {
   "cell_type": "markdown",
   "metadata": {},
   "source": [
    "## Accuracy score"
   ]
  },
  {
   "cell_type": "code",
   "execution_count": 150,
   "metadata": {},
   "outputs": [
    {
     "name": "stdout",
     "output_type": "stream",
     "text": [
      "Accuracy: 0.7724418250177827\n"
     ]
    }
   ],
   "source": [
    "print(\"Accuracy:\", metrics.accuracy_score(y_test, gnb_y_pred))"
   ]
  },
  {
   "cell_type": "markdown",
   "metadata": {},
   "source": [
    "## Compare the train-set and test-set accuracy"
   ]
  },
  {
   "cell_type": "code",
   "execution_count": 151,
   "metadata": {},
   "outputs": [
    {
     "data": {
      "text/plain": [
       "array(['No', 'No', 'No', ..., 'Yes', 'Yes', 'No'], dtype='<U3')"
      ]
     },
     "execution_count": 151,
     "metadata": {},
     "output_type": "execute_result"
    }
   ],
   "source": [
    "gnb_y_pred_train = gnb.predict(X_train)\n",
    "gnb_y_pred_train"
   ]
  },
  {
   "cell_type": "code",
   "execution_count": 152,
   "metadata": {},
   "outputs": [
    {
     "name": "stdout",
     "output_type": "stream",
     "text": [
      "Training-set accuracy score: 0.790119962162472\n"
     ]
    }
   ],
   "source": [
    "print('Training-set accuracy score:', metrics.accuracy_score(y_train, gnb_y_pred_train))"
   ]
  },
  {
   "cell_type": "markdown",
   "metadata": {},
   "source": [
    "## Check for overfitting and underfitting"
   ]
  },
  {
   "cell_type": "code",
   "execution_count": 153,
   "metadata": {},
   "outputs": [
    {
     "name": "stdout",
     "output_type": "stream",
     "text": [
      "Training set score: 0.790119962162472\n",
      "Test set score: 0.7724418250177827\n"
     ]
    }
   ],
   "source": [
    "# print the scores on training and test set\n",
    "\n",
    "print('Training set score:', gnb.score(X_train, y_train))\n",
    "print('Test set score:', gnb.score(X_test, y_test))"
   ]
  },
  {
   "cell_type": "markdown",
   "metadata": {},
   "source": [
    "The values are similar, but the test set score is still lower than the training set score."
   ]
  },
  {
   "cell_type": "markdown",
   "metadata": {},
   "source": [
    "## Compare GNB model accuracy with null accuracy"
   ]
  },
  {
   "cell_type": "code",
   "execution_count": 154,
   "metadata": {},
   "outputs": [
    {
     "data": {
      "text/plain": [
       "No     46528\n",
       "Yes     2677\n",
       "Name: HadHeartAttack, dtype: int64"
      ]
     },
     "execution_count": 154,
     "metadata": {},
     "output_type": "execute_result"
    }
   ],
   "source": [
    "y_test.value_counts()"
   ]
  },
  {
   "cell_type": "code",
   "execution_count": 155,
   "metadata": {},
   "outputs": [
    {
     "name": "stdout",
     "output_type": "stream",
     "text": [
      "Null accuracy score: 0.9455949598618026\n"
     ]
    }
   ],
   "source": [
    "# check null accuracy score\n",
    "\n",
    "null_accuracy = (46528/(46528+2677))\n",
    "print('Null accuracy score:', (null_accuracy))"
   ]
  },
  {
   "cell_type": "markdown",
   "metadata": {},
   "source": [
    "In our GNB model, the null accuracy score is higher than the accuracy score."
   ]
  },
  {
   "cell_type": "markdown",
   "metadata": {},
   "source": [
    "## Confusion Matrix"
   ]
  },
  {
   "cell_type": "code",
   "execution_count": 156,
   "metadata": {},
   "outputs": [
    {
     "name": "stdout",
     "output_type": "stream",
     "text": [
      "Confusion matrix\n",
      "\n",
      " [[35958 10570]\n",
      " [  627  2050]]\n",
      "\n",
      "True Positives(TP) = 35958\n",
      "True Negatives(TN) = 2050\n",
      "False Positives(FP) = 10570\n",
      "False Negatives(FN) = 627\n"
     ]
    }
   ],
   "source": [
    "gnb_cm = confusion_matrix(y_test, gnb_y_pred)\n",
    "\n",
    "print('Confusion matrix\\n\\n', gnb_cm)\n",
    "print('\\nTrue Positives(TP) =', gnb_cm[0,0])\n",
    "print('True Negatives(TN) =', gnb_cm[1,1])\n",
    "print('False Positives(FP) =', gnb_cm[0,1])\n",
    "print('False Negatives(FN) =', gnb_cm[1,0])"
   ]
  },
  {
   "cell_type": "code",
   "execution_count": 157,
   "metadata": {},
   "outputs": [
    {
     "data": {
      "image/png": "[encoded data removed]",
      "text/plain": [
       "<Figure size 432x288 with 2 Axes>"
      ]
     },
     "metadata": {
      "needs_background": "light"
     },
     "output_type": "display_data"
    }
   ],
   "source": [
    "# visualize confusion matrix with seaborn heatmap\n",
    "\n",
    "gnb_cm_matrix = pd.DataFrame(data=gnb_cm, columns=['Actual Positive:1', 'Actual Negative:0'], \n",
    "                                 index=['Predict Positive:1', 'Predict Negative:0'])\n",
    "sns.heatmap(gnb_cm_matrix, annot=True, fmt='d', cmap='YlGnBu')\n",
    "plt.title('Confusion Matrix for Naive Bayes Model')\n",
    "plt.show()"
   ]
  },
  {
   "cell_type": "code",
   "execution_count": 158,
   "metadata": {},
   "outputs": [
    {
     "name": "stdout",
     "output_type": "stream",
     "text": [
      "              precision    recall  f1-score   support\n",
      "\n",
      "          No       0.98      0.77      0.87     46528\n",
      "         Yes       0.16      0.77      0.27      2677\n",
      "\n",
      "    accuracy                           0.77     49205\n",
      "   macro avg       0.57      0.77      0.57     49205\n",
      "weighted avg       0.94      0.77      0.83     49205\n",
      "\n"
     ]
    }
   ],
   "source": [
    "print(metrics.classification_report(y_test, gnb_y_pred))"
   ]
  },
  {
   "cell_type": "markdown",
   "metadata": {},
   "source": [
    "# Model 3: Random Forest Algoritm"
   ]
  },
  {
   "cell_type": "code",
   "execution_count": 180,
   "metadata": {},
   "outputs": [],
   "source": [
    "# modelling\n",
    "from sklearn.ensemble import RandomForestClassifier\n",
    "\n",
    "# Tree Visualisation\n",
    "from sklearn.tree import export_graphviz\n",
    "from IPython.display import Image\n",
    "import graphviz\n",
    "\n",
    "rf = RandomForestClassifier()\n",
    "rf.fit(X_train, y_train)"
   ]
  },
  {
   "cell_type": "code",
   "execution_count": 162,
   "metadata": {},
   "outputs": [],
   "source": [
    "rf_y_pred = rf.predict(X_test)"
   ]
  },
  {
   "cell_type": "markdown",
   "metadata": {},
   "source": [
    "## Accuracy score"
   ]
  },
  {
   "cell_type": "code",
   "execution_count": 163,
   "metadata": {},
   "outputs": [
    {
     "name": "stdout",
     "output_type": "stream",
     "text": [
      "Accuracy: 0.9450259120008129\n"
     ]
    }
   ],
   "source": [
    "print(\"Accuracy:\", metrics.accuracy_score(y_test, rf_y_pred))"
   ]
  },
  {
   "cell_type": "markdown",
   "metadata": {},
   "source": [
    "## Compare the train-set and test-set accuracy"
   ]
  },
  {
   "cell_type": "code",
   "execution_count": 164,
   "metadata": {},
   "outputs": [
    {
     "data": {
      "text/plain": [
       "array(['No', 'No', 'No', ..., 'Yes', 'Yes', 'Yes'], dtype=object)"
      ]
     },
     "execution_count": 164,
     "metadata": {},
     "output_type": "execute_result"
    }
   ],
   "source": [
    "rf_y_pred_train = rf.predict(X_train)\n",
    "rf_y_pred_train"
   ]
  },
  {
   "cell_type": "code",
   "execution_count": 165,
   "metadata": {},
   "outputs": [
    {
     "name": "stdout",
     "output_type": "stream",
     "text": [
      "Training-set accuracy score: 1.0\n"
     ]
    }
   ],
   "source": [
    "print('Training-set accuracy score:', metrics.accuracy_score(y_train, rf_y_pred_train))"
   ]
  },
  {
   "cell_type": "markdown",
   "metadata": {},
   "source": [
    "## Check for overfitting and underfitting"
   ]
  },
  {
   "cell_type": "code",
   "execution_count": 167,
   "metadata": {},
   "outputs": [
    {
     "name": "stdout",
     "output_type": "stream",
     "text": [
      "Training set score: 1.0\n",
      "Test set score: 0.9450259120008129\n"
     ]
    }
   ],
   "source": [
    "# print the scores on training and test set\n",
    "\n",
    "print('Training set score:', rf.score(X_train, y_train))\n",
    "print('Test set score:', rf.score(X_test, y_test))"
   ]
  },
  {
   "cell_type": "markdown",
   "metadata": {},
   "source": [
    "The values are similar, but the test set score is still lower than the training set score."
   ]
  },
  {
   "cell_type": "markdown",
   "metadata": {},
   "source": [
    "## Compare RF model accuracy with null accuracy"
   ]
  },
  {
   "cell_type": "code",
   "execution_count": 168,
   "metadata": {},
   "outputs": [
    {
     "data": {
      "text/plain": [
       "No     46528\n",
       "Yes     2677\n",
       "Name: HadHeartAttack, dtype: int64"
      ]
     },
     "execution_count": 168,
     "metadata": {},
     "output_type": "execute_result"
    }
   ],
   "source": [
    "y_test.value_counts()"
   ]
  },
  {
   "cell_type": "code",
   "execution_count": 169,
   "metadata": {},
   "outputs": [
    {
     "name": "stdout",
     "output_type": "stream",
     "text": [
      "Null accuracy score: 0.9455949598618026\n"
     ]
    }
   ],
   "source": [
    "# check null accuracy score\n",
    "\n",
    "null_accuracy = (46528/(46528+2677))\n",
    "print('Null accuracy score:', (null_accuracy))"
   ]
  },
  {
   "cell_type": "markdown",
   "metadata": {},
   "source": [
    "In our rf model, the null accuracy score is MIRIP GATAU ARTINYS than the accuracy score."
   ]
  },
  {
   "cell_type": "markdown",
   "metadata": {},
   "source": [
    "## Confusion Matrix"
   ]
  },
  {
   "cell_type": "code",
   "execution_count": 173,
   "metadata": {},
   "outputs": [
    {
     "name": "stdout",
     "output_type": "stream",
     "text": [
      "Confusion matrix\n",
      "\n",
      " [[45523  1005]\n",
      " [ 1700   977]]\n",
      "\n",
      "True Positives(TP) = 45523\n",
      "True Negatives(TN) = 977\n",
      "False Positives(FP) = 1005\n",
      "False Negatives(FN) = 1700\n"
     ]
    }
   ],
   "source": [
    "rf_cm = confusion_matrix(y_test, rf_y_pred)\n",
    "\n",
    "print('Confusion matrix\\n\\n', rf_cm)\n",
    "print('\\nTrue Positives(TP) =', rf_cm[0,0])\n",
    "print('True Negatives(TN) =', rf_cm[1,1])\n",
    "print('False Positives(FP) =', rf_cm[0,1])\n",
    "print('False Negatives(FN) =', rf_cm[1,0])"
   ]
  },
  {
   "cell_type": "code",
   "execution_count": 174,
   "metadata": {},
   "outputs": [
    {
     "data": {
      "image/png": "[encoded data removed]",
      "text/plain": [
       "<Figure size 432x288 with 2 Axes>"
      ]
     },
     "metadata": {
      "needs_background": "light"
     },
     "output_type": "display_data"
    }
   ],
   "source": [
    "# visualize confusion matrix with seaborn heatmap\n",
    "\n",
    "rf_cm_matrix = pd.DataFrame(data=rf_cm, columns=['Actual Positive:1', 'Actual Negative:0'], \n",
    "                                 index=['Predict Positive:1', 'Predict Negative:0'])\n",
    "sns.heatmap(rf_cm_matrix, annot=True, fmt='d', cmap='YlGnBu')\n",
    "plt.title('Confusion Matrix for Random Forest')\n",
    "plt.show()"
   ]
  },
  {
   "cell_type": "markdown",
   "metadata": {},
   "source": [
    "# Laporan Klasifikasi"
   ]
  },
  {
   "cell_type": "code",
   "execution_count": 175,
   "metadata": {},
   "outputs": [
    {
     "name": "stdout",
     "output_type": "stream",
     "text": [
      "              precision    recall  f1-score   support\n",
      "\n",
      "          No       0.96      0.98      0.97     46528\n",
      "         Yes       0.49      0.36      0.42      2677\n",
      "\n",
      "    accuracy                           0.95     49205\n",
      "   macro avg       0.73      0.67      0.70     49205\n",
      "weighted avg       0.94      0.95      0.94     49205\n",
      "\n"
     ]
    }
   ],
   "source": [
    "print(metrics.classification_report(y_test, rf_y_pred))"
   ]
  }
 ],
 "metadata": {
  "kernelspec": {
   "display_name": ".venv",
   "language": "python",
   "name": "python3"
  },
  "language_info": {
   "codemirror_mode": {
    "name": "ipython",
    "version": 3
   },
   "file_extension": ".py",
   "mimetype": "text/x-python",
   "name": "python",
   "nbconvert_exporter": "python",
   "pygments_lexer": "ipython3",
   "version": "3.9.7"
  }
 },
 "nbformat": 4,
 "nbformat_minor": 2
}
